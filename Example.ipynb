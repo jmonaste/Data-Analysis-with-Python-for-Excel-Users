{
 "cells": [
  {
   "cell_type": "markdown",
   "id": "efc3048c",
   "metadata": {},
   "source": [
    "# Hello World"
   ]
  },
  {
   "cell_type": "code",
   "execution_count": 8,
   "id": "0473ade7",
   "metadata": {},
   "outputs": [
    {
     "name": "stdout",
     "output_type": "stream",
     "text": [
      "Hello wolrd!\n"
     ]
    }
   ],
   "source": [
    "# printing my first message\n",
    "print(\"Hello wolrd!\")"
   ]
  },
  {
   "cell_type": "markdown",
   "id": "61d3ca07",
   "metadata": {},
   "source": [
    "# Data types"
   ]
  },
  {
   "cell_type": "code",
   "execution_count": 13,
   "id": "2b619045",
   "metadata": {},
   "outputs": [
    {
     "data": {
      "text/plain": [
       "set"
      ]
     },
     "execution_count": 13,
     "metadata": {},
     "output_type": "execute_result"
    }
   ],
   "source": [
    "type({1,2,3})"
   ]
  },
  {
   "cell_type": "code",
   "execution_count": 19,
   "id": "62975760",
   "metadata": {},
   "outputs": [
    {
     "name": "stdout",
     "output_type": "stream",
     "text": [
      "HELLO WORLD\n",
      "hello world\n",
      "Hello World\n",
      "3\n"
     ]
    }
   ],
   "source": [
    "print(\"Hello World\".upper())\n",
    "print(\"Hello World\".lower())\n",
    "print(\"Hello World\".title())\n",
    "print(\"Hello World\".count('l'))"
   ]
  }
 ],
 "metadata": {
  "kernelspec": {
   "display_name": "Python 3 (ipykernel)",
   "language": "python",
   "name": "python3"
  },
  "language_info": {
   "codemirror_mode": {
    "name": "ipython",
    "version": 3
   },
   "file_extension": ".py",
   "mimetype": "text/x-python",
   "name": "python",
   "nbconvert_exporter": "python",
   "pygments_lexer": "ipython3",
   "version": "3.9.13"
  }
 },
 "nbformat": 4,
 "nbformat_minor": 5
}
