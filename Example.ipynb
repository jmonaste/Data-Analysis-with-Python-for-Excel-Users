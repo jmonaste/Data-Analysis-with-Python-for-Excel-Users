{
 "cells": [
  {
   "cell_type": "markdown",
   "id": "1d47c088",
   "metadata": {},
   "source": [
    "# Hello World"
   ]
  },
  {
   "cell_type": "markdown",
   "id": "4e0c8a5a",
   "metadata": {},
   "source": [
    "## This is a subtitle"
   ]
  },
  {
   "cell_type": "markdown",
   "id": "8910a408",
   "metadata": {},
   "source": [
    "This is a normal text"
   ]
  },
  {
   "cell_type": "code",
   "execution_count": 5,
   "id": "7920ad5c",
   "metadata": {},
   "outputs": [
    {
     "data": {
      "text/plain": [
       "18"
      ]
     },
     "execution_count": 5,
     "metadata": {},
     "output_type": "execute_result"
    }
   ],
   "source": [
    "9+9"
   ]
  }
 ],
 "metadata": {
  "kernelspec": {
   "display_name": "Python 3 (ipykernel)",
   "language": "python",
   "name": "python3"
  },
  "language_info": {
   "codemirror_mode": {
    "name": "ipython",
    "version": 3
   },
   "file_extension": ".py",
   "mimetype": "text/x-python",
   "name": "python",
   "nbconvert_exporter": "python",
   "pygments_lexer": "ipython3",
   "version": "3.9.13"
  }
 },
 "nbformat": 4,
 "nbformat_minor": 5
}
