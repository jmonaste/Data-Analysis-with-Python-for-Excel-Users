{
 "cells": [
  {
   "cell_type": "markdown",
   "id": "f0723fe8",
   "metadata": {},
   "source": [
    "# Hello World"
   ]
  },
  {
   "cell_type": "code",
   "execution_count": 8,
   "id": "e7da7bdb",
   "metadata": {},
   "outputs": [
    {
     "name": "stdout",
     "output_type": "stream",
     "text": [
      "Hello wolrd!\n"
     ]
    }
   ],
   "source": [
    "# printing my first message\n",
    "print(\"Hello wolrd!\")"
   ]
  },
  {
   "cell_type": "markdown",
   "id": "59eab3b0",
   "metadata": {},
   "source": [
    "# Data types"
   ]
  },
  {
   "cell_type": "code",
   "execution_count": 13,
   "id": "eed7b1b2",
   "metadata": {},
   "outputs": [
    {
     "data": {
      "text/plain": [
       "set"
      ]
     },
     "execution_count": 13,
     "metadata": {},
     "output_type": "execute_result"
    }
   ],
   "source": [
    "type({1,2,3})"
   ]
  },
  {
   "cell_type": "code",
   "execution_count": 19,
   "id": "64f76a32",
   "metadata": {},
   "outputs": [
    {
     "name": "stdout",
     "output_type": "stream",
     "text": [
      "HELLO WORLD\n",
      "hello world\n",
      "Hello World\n",
      "3\n"
     ]
    }
   ],
   "source": [
    "print(\"Hello World\".upper())\n",
    "print(\"Hello World\".lower())\n",
    "print(\"Hello World\".title())\n",
    "print(\"Hello World\".count('l'))"
   ]
  },
  {
   "cell_type": "markdown",
   "id": "4a31a303",
   "metadata": {},
   "source": [
    "# Variables"
   ]
  },
  {
   "cell_type": "code",
   "execution_count": 20,
   "id": "1326a602",
   "metadata": {},
   "outputs": [],
   "source": [
    "message_1 = \"I'm learning python!\""
   ]
  },
  {
   "cell_type": "code",
   "execution_count": 21,
   "id": "a7239744",
   "metadata": {},
   "outputs": [
    {
     "data": {
      "text/plain": [
       "\"I'm learning python!\""
      ]
     },
     "execution_count": 21,
     "metadata": {},
     "output_type": "execute_result"
    }
   ],
   "source": [
    "message_1"
   ]
  },
  {
   "cell_type": "code",
   "execution_count": 22,
   "id": "71280ca8",
   "metadata": {},
   "outputs": [],
   "source": [
    "message_2 = \"and its fine\""
   ]
  },
  {
   "cell_type": "code",
   "execution_count": 23,
   "id": "53827afb",
   "metadata": {},
   "outputs": [
    {
     "data": {
      "text/plain": [
       "'and its fine'"
      ]
     },
     "execution_count": 23,
     "metadata": {},
     "output_type": "execute_result"
    }
   ],
   "source": [
    "message_2"
   ]
  },
  {
   "cell_type": "code",
   "execution_count": 25,
   "id": "b05f7634",
   "metadata": {},
   "outputs": [
    {
     "data": {
      "text/plain": [
       "\"I'm learning python! and its fine\""
      ]
     },
     "execution_count": 25,
     "metadata": {},
     "output_type": "execute_result"
    }
   ],
   "source": [
    "message_1 + ' ' + message_2"
   ]
  },
  {
   "cell_type": "code",
   "execution_count": 26,
   "id": "1c5b480d",
   "metadata": {},
   "outputs": [
    {
     "data": {
      "text/plain": [
       "'Hello World!'"
      ]
     },
     "execution_count": 26,
     "metadata": {},
     "output_type": "execute_result"
    }
   ],
   "source": [
    "f'Hello World!'"
   ]
  },
  {
   "cell_type": "code",
   "execution_count": 27,
   "id": "0c6c9ad9",
   "metadata": {},
   "outputs": [
    {
     "data": {
      "text/plain": [
       "\"I'm learning python!\""
      ]
     },
     "execution_count": 27,
     "metadata": {},
     "output_type": "execute_result"
    }
   ],
   "source": [
    "f'{message_1}'"
   ]
  },
  {
   "cell_type": "code",
   "execution_count": 28,
   "id": "1e3256fa",
   "metadata": {},
   "outputs": [
    {
     "data": {
      "text/plain": [
       "\"I'm learning python! and its fine\""
      ]
     },
     "execution_count": 28,
     "metadata": {},
     "output_type": "execute_result"
    }
   ],
   "source": [
    "f'{message_1} {message_2}'"
   ]
  },
  {
   "cell_type": "code",
   "execution_count": 29,
   "id": "8f3ac6d7",
   "metadata": {},
   "outputs": [
    {
     "data": {
      "text/plain": [
       "\"I'm learning python! random text and its fine\""
      ]
     },
     "execution_count": 29,
     "metadata": {},
     "output_type": "execute_result"
    }
   ],
   "source": [
    "f'{message_1} random text {message_2}'"
   ]
  },
  {
   "cell_type": "markdown",
   "id": "a2d9d370",
   "metadata": {},
   "source": [
    "# Lists"
   ]
  },
  {
   "cell_type": "code",
   "execution_count": 3,
   "id": "e2cc8268",
   "metadata": {},
   "outputs": [],
   "source": [
    "# lists can have elements of different types and duplicated elements\n",
    "countries = ['United States', 'India', 'China', 'Brazil', 'United States']"
   ]
  },
  {
   "cell_type": "code",
   "execution_count": 4,
   "id": "c4eed564",
   "metadata": {},
   "outputs": [
    {
     "data": {
      "text/plain": [
       "['United States', 'India', 'China', 'Brazil', 'United States']"
      ]
     },
     "execution_count": 4,
     "metadata": {},
     "output_type": "execute_result"
    }
   ],
   "source": [
    "countries"
   ]
  },
  {
   "cell_type": "code",
   "execution_count": 48,
   "id": "6ea8f27d",
   "metadata": {},
   "outputs": [],
   "source": [
    "countries = ['United States', 'India', 'China', 'Brazil']"
   ]
  },
  {
   "cell_type": "code",
   "execution_count": 40,
   "id": "4c02a8e2",
   "metadata": {},
   "outputs": [
    {
     "data": {
      "text/plain": [
       "'United States'"
      ]
     },
     "execution_count": 40,
     "metadata": {},
     "output_type": "execute_result"
    }
   ],
   "source": [
    "# each item has an index, and is zero-based index\n",
    "countries[0]"
   ]
  },
  {
   "cell_type": "code",
   "execution_count": 41,
   "id": "12b3c967",
   "metadata": {},
   "outputs": [
    {
     "name": "stdout",
     "output_type": "stream",
     "text": [
      "United States\n",
      "India\n",
      "China\n",
      "Brazil\n"
     ]
    }
   ],
   "source": [
    "print(countries[0])\n",
    "print(countries[1])\n",
    "print(countries[2])\n",
    "print(countries[3])"
   ]
  },
  {
   "cell_type": "code",
   "execution_count": 44,
   "id": "c471fd38",
   "metadata": {},
   "outputs": [
    {
     "name": "stdout",
     "output_type": "stream",
     "text": [
      "United States\n",
      "India\n",
      "China\n",
      "Brazil\n"
     ]
    },
    {
     "ename": "IndexError",
     "evalue": "list index out of range",
     "output_type": "error",
     "traceback": [
      "\u001b[1;31m---------------------------------------------------------------------------\u001b[0m",
      "\u001b[1;31mIndexError\u001b[0m                                Traceback (most recent call last)",
      "\u001b[1;32m~\\AppData\\Local\\Temp\\ipykernel_25384\\3663792913.py\u001b[0m in \u001b[0;36m<module>\u001b[1;34m\u001b[0m\n\u001b[0;32m      3\u001b[0m \u001b[0mprint\u001b[0m\u001b[1;33m(\u001b[0m\u001b[0mcountries\u001b[0m\u001b[1;33m[\u001b[0m\u001b[1;36m2\u001b[0m\u001b[1;33m]\u001b[0m\u001b[1;33m)\u001b[0m\u001b[1;33m\u001b[0m\u001b[1;33m\u001b[0m\u001b[0m\n\u001b[0;32m      4\u001b[0m \u001b[0mprint\u001b[0m\u001b[1;33m(\u001b[0m\u001b[0mcountries\u001b[0m\u001b[1;33m[\u001b[0m\u001b[1;36m3\u001b[0m\u001b[1;33m]\u001b[0m\u001b[1;33m)\u001b[0m\u001b[1;33m\u001b[0m\u001b[1;33m\u001b[0m\u001b[0m\n\u001b[1;32m----> 5\u001b[1;33m \u001b[0mprint\u001b[0m\u001b[1;33m(\u001b[0m\u001b[0mcountries\u001b[0m\u001b[1;33m[\u001b[0m\u001b[1;36m4\u001b[0m\u001b[1;33m]\u001b[0m\u001b[1;33m)\u001b[0m\u001b[1;33m\u001b[0m\u001b[1;33m\u001b[0m\u001b[0m\n\u001b[0m",
      "\u001b[1;31mIndexError\u001b[0m: list index out of range"
     ]
    }
   ],
   "source": [
    "print(countries[0])\n",
    "print(countries[1])\n",
    "print(countries[2])\n",
    "print(countries[3])\n",
    "print(countries[4])"
   ]
  },
  {
   "cell_type": "code",
   "execution_count": 45,
   "id": "c38a4387",
   "metadata": {},
   "outputs": [
    {
     "name": "stdout",
     "output_type": "stream",
     "text": [
      "Brazil\n"
     ]
    }
   ],
   "source": [
    "print(countries[-1])"
   ]
  },
  {
   "cell_type": "code",
   "execution_count": 50,
   "id": "7fc81f9a",
   "metadata": {},
   "outputs": [
    {
     "data": {
      "text/plain": [
       "['India', 'China']"
      ]
     },
     "execution_count": 50,
     "metadata": {},
     "output_type": "execute_result"
    }
   ],
   "source": [
    "# slicing. Subsets of a list elements\n",
    "#list_name[start:stop] stop not included\n",
    "countries[1:3]"
   ]
  },
  {
   "cell_type": "code",
   "execution_count": 52,
   "id": "647f9c5a",
   "metadata": {},
   "outputs": [
    {
     "data": {
      "text/plain": [
       "['United States', 'India']"
      ]
     },
     "execution_count": 52,
     "metadata": {},
     "output_type": "execute_result"
    }
   ],
   "source": [
    "countries[:2]"
   ]
  },
  {
   "cell_type": "markdown",
   "id": "cde388cd",
   "metadata": {},
   "source": [
    "## Adding elements to a list"
   ]
  },
  {
   "cell_type": "code",
   "execution_count": 53,
   "id": "3dadc50a",
   "metadata": {},
   "outputs": [
    {
     "data": {
      "text/plain": [
       "['United States', 'India', 'China', 'Brazil']"
      ]
     },
     "execution_count": 53,
     "metadata": {},
     "output_type": "execute_result"
    }
   ],
   "source": [
    "countries"
   ]
  },
  {
   "cell_type": "code",
   "execution_count": 54,
   "id": "f647bd03",
   "metadata": {},
   "outputs": [],
   "source": [
    "countries.append('Chile')"
   ]
  },
  {
   "cell_type": "code",
   "execution_count": 55,
   "id": "f3b7e24c",
   "metadata": {},
   "outputs": [
    {
     "data": {
      "text/plain": [
       "['United States', 'India', 'China', 'Brazil', 'Chile']"
      ]
     },
     "execution_count": 55,
     "metadata": {},
     "output_type": "execute_result"
    }
   ],
   "source": [
    "countries"
   ]
  },
  {
   "cell_type": "code",
   "execution_count": 56,
   "id": "34686621",
   "metadata": {},
   "outputs": [],
   "source": [
    "countries.insert(1,'Spain')"
   ]
  },
  {
   "cell_type": "code",
   "execution_count": 57,
   "id": "8a2311eb",
   "metadata": {},
   "outputs": [
    {
     "data": {
      "text/plain": [
       "['United States', 'Spain', 'India', 'China', 'Brazil', 'Chile']"
      ]
     },
     "execution_count": 57,
     "metadata": {},
     "output_type": "execute_result"
    }
   ],
   "source": [
    "countries"
   ]
  },
  {
   "cell_type": "code",
   "execution_count": 58,
   "id": "8809048b",
   "metadata": {},
   "outputs": [],
   "source": [
    "countries_2 = ['UK', 'Rusia', 'Belgium']"
   ]
  },
  {
   "cell_type": "code",
   "execution_count": 59,
   "id": "ee227bd4",
   "metadata": {},
   "outputs": [
    {
     "data": {
      "text/plain": [
       "['United States',\n",
       " 'Spain',\n",
       " 'India',\n",
       " 'China',\n",
       " 'Brazil',\n",
       " 'Chile',\n",
       " 'UK',\n",
       " 'Rusia',\n",
       " 'Belgium']"
      ]
     },
     "execution_count": 59,
     "metadata": {},
     "output_type": "execute_result"
    }
   ],
   "source": [
    "countries + countries_2"
   ]
  },
  {
   "cell_type": "code",
   "execution_count": 60,
   "id": "f8b04085",
   "metadata": {},
   "outputs": [],
   "source": [
    "nested_list = [countries, countries_2]"
   ]
  },
  {
   "cell_type": "code",
   "execution_count": 61,
   "id": "b49c5107",
   "metadata": {},
   "outputs": [
    {
     "data": {
      "text/plain": [
       "[['United States', 'Spain', 'India', 'China', 'Brazil', 'Chile'],\n",
       " ['UK', 'Rusia', 'Belgium']]"
      ]
     },
     "execution_count": 61,
     "metadata": {},
     "output_type": "execute_result"
    }
   ],
   "source": [
    "nested_list"
   ]
  },
  {
   "cell_type": "markdown",
   "id": "d7300ac5",
   "metadata": {},
   "source": [
    "## Removing elements from a list"
   ]
  },
  {
   "cell_type": "code",
   "execution_count": 5,
   "id": "71262623",
   "metadata": {},
   "outputs": [
    {
     "data": {
      "text/plain": [
       "['United States', 'India', 'China', 'Brazil', 'United States']"
      ]
     },
     "execution_count": 5,
     "metadata": {},
     "output_type": "execute_result"
    }
   ],
   "source": [
    "countries"
   ]
  },
  {
   "cell_type": "code",
   "execution_count": 6,
   "id": "95d052b0",
   "metadata": {},
   "outputs": [
    {
     "data": {
      "text/plain": [
       "'United States'"
      ]
     },
     "execution_count": 6,
     "metadata": {},
     "output_type": "execute_result"
    }
   ],
   "source": [
    "countries.pop(-1)"
   ]
  },
  {
   "cell_type": "code",
   "execution_count": 7,
   "id": "710b4dd6",
   "metadata": {},
   "outputs": [
    {
     "data": {
      "text/plain": [
       "['United States', 'India', 'China', 'Brazil']"
      ]
     },
     "execution_count": 7,
     "metadata": {},
     "output_type": "execute_result"
    }
   ],
   "source": [
    "countries"
   ]
  },
  {
   "cell_type": "markdown",
   "id": "7d40f12c",
   "metadata": {},
   "source": [
    "del countries[0]"
   ]
  },
  {
   "cell_type": "code",
   "execution_count": 9,
   "id": "8349d033",
   "metadata": {},
   "outputs": [
    {
     "data": {
      "text/plain": [
       "['India', 'China', 'Brazil']"
      ]
     },
     "execution_count": 9,
     "metadata": {},
     "output_type": "execute_result"
    }
   ],
   "source": [
    "countries"
   ]
  },
  {
   "cell_type": "markdown",
   "id": "c372c2d8",
   "metadata": {},
   "source": [
    "## Sorting a list"
   ]
  },
  {
   "cell_type": "code",
   "execution_count": 11,
   "id": "1d75cac1",
   "metadata": {},
   "outputs": [],
   "source": [
    "numbers = [0,4,2,6,7,23,98,4,12,3,1,0,34]"
   ]
  },
  {
   "cell_type": "code",
   "execution_count": 14,
   "id": "b4c7f382",
   "metadata": {},
   "outputs": [],
   "source": [
    "numbers.sort()"
   ]
  },
  {
   "cell_type": "code",
   "execution_count": 15,
   "id": "0184edd9",
   "metadata": {},
   "outputs": [
    {
     "data": {
      "text/plain": [
       "[0, 0, 1, 2, 3, 4, 4, 6, 7, 12, 23, 34, 98]"
      ]
     },
     "execution_count": 15,
     "metadata": {},
     "output_type": "execute_result"
    }
   ],
   "source": [
    "numbers"
   ]
  },
  {
   "cell_type": "code",
   "execution_count": 17,
   "id": "5fe97e08",
   "metadata": {},
   "outputs": [],
   "source": [
    "numbers.sort(reverse=True)"
   ]
  },
  {
   "cell_type": "code",
   "execution_count": 18,
   "id": "d6800c22",
   "metadata": {},
   "outputs": [
    {
     "data": {
      "text/plain": [
       "[98, 34, 23, 12, 7, 6, 4, 4, 3, 2, 1, 0, 0]"
      ]
     },
     "execution_count": 18,
     "metadata": {},
     "output_type": "execute_result"
    }
   ],
   "source": [
    "numbers"
   ]
  },
  {
   "cell_type": "markdown",
   "id": "1a34b2ed",
   "metadata": {},
   "source": [
    "## Update a list element"
   ]
  },
  {
   "cell_type": "code",
   "execution_count": 19,
   "id": "62a945ba",
   "metadata": {},
   "outputs": [],
   "source": [
    "numbers[0] = 100"
   ]
  },
  {
   "cell_type": "code",
   "execution_count": 20,
   "id": "c0f09995",
   "metadata": {},
   "outputs": [
    {
     "data": {
      "text/plain": [
       "[100, 34, 23, 12, 7, 6, 4, 4, 3, 2, 1, 0, 0]"
      ]
     },
     "execution_count": 20,
     "metadata": {},
     "output_type": "execute_result"
    }
   ],
   "source": [
    "numbers"
   ]
  },
  {
   "cell_type": "markdown",
   "id": "9dba6025",
   "metadata": {},
   "source": [
    "## Copying a list"
   ]
  },
  {
   "cell_type": "code",
   "execution_count": 23,
   "id": "588c39e9",
   "metadata": {},
   "outputs": [],
   "source": [
    "#if no start and end specified, it means the whole list\n",
    "new_list = countries[:]"
   ]
  },
  {
   "cell_type": "code",
   "execution_count": 24,
   "id": "a622128d",
   "metadata": {},
   "outputs": [
    {
     "data": {
      "text/plain": [
       "['India', 'China', 'Brazil']"
      ]
     },
     "execution_count": 24,
     "metadata": {},
     "output_type": "execute_result"
    }
   ],
   "source": [
    "new_list"
   ]
  },
  {
   "cell_type": "code",
   "execution_count": 26,
   "id": "49c10731",
   "metadata": {},
   "outputs": [],
   "source": [
    "new_list_2 = countries.copy()"
   ]
  },
  {
   "cell_type": "code",
   "execution_count": 27,
   "id": "59501001",
   "metadata": {},
   "outputs": [
    {
     "data": {
      "text/plain": [
       "['India', 'China', 'Brazil']"
      ]
     },
     "execution_count": 27,
     "metadata": {},
     "output_type": "execute_result"
    }
   ],
   "source": [
    "new_list_2"
   ]
  },
  {
   "cell_type": "markdown",
   "id": "1049543a",
   "metadata": {},
   "source": [
    "# Dictionary"
   ]
  },
  {
   "cell_type": "code",
   "execution_count": 28,
   "id": "b60f86f7",
   "metadata": {},
   "outputs": [],
   "source": [
    "my_dict = {'key1':'value1', 'key2':'value2'}"
   ]
  },
  {
   "cell_type": "code",
   "execution_count": 31,
   "id": "6844b620",
   "metadata": {},
   "outputs": [],
   "source": [
    "my_data = {'name':'Frank', 'age':26}"
   ]
  },
  {
   "cell_type": "code",
   "execution_count": 32,
   "id": "fec53bb2",
   "metadata": {},
   "outputs": [
    {
     "data": {
      "text/plain": [
       "{'name': 'Frank', 'age': 26}"
      ]
     },
     "execution_count": 32,
     "metadata": {},
     "output_type": "execute_result"
    }
   ],
   "source": [
    "my_data"
   ]
  },
  {
   "cell_type": "code",
   "execution_count": 33,
   "id": "e6eb8f79",
   "metadata": {},
   "outputs": [
    {
     "data": {
      "text/plain": [
       "dict_keys(['name', 'age'])"
      ]
     },
     "execution_count": 33,
     "metadata": {},
     "output_type": "execute_result"
    }
   ],
   "source": [
    "my_data.keys()"
   ]
  },
  {
   "cell_type": "code",
   "execution_count": 34,
   "id": "3dfed817",
   "metadata": {},
   "outputs": [
    {
     "data": {
      "text/plain": [
       "dict_values(['Frank', 26])"
      ]
     },
     "execution_count": 34,
     "metadata": {},
     "output_type": "execute_result"
    }
   ],
   "source": [
    "my_data.values()"
   ]
  },
  {
   "cell_type": "code",
   "execution_count": 36,
   "id": "fa8622a4",
   "metadata": {},
   "outputs": [
    {
     "data": {
      "text/plain": [
       "dict_items([('name', 'Frank'), ('age', 26)])"
      ]
     },
     "execution_count": 36,
     "metadata": {},
     "output_type": "execute_result"
    }
   ],
   "source": [
    "my_data.items()"
   ]
  },
  {
   "cell_type": "markdown",
   "id": "eb9675da",
   "metadata": {},
   "source": [
    "## Adding another pair of key-value"
   ]
  },
  {
   "cell_type": "code",
   "execution_count": 37,
   "id": "75911c4e",
   "metadata": {},
   "outputs": [],
   "source": [
    "my_data['height'] = 1.7"
   ]
  },
  {
   "cell_type": "code",
   "execution_count": 38,
   "id": "5a2986f5",
   "metadata": {},
   "outputs": [
    {
     "data": {
      "text/plain": [
       "{'name': 'Frank', 'age': 26, 'height': 1.7}"
      ]
     },
     "execution_count": 38,
     "metadata": {},
     "output_type": "execute_result"
    }
   ],
   "source": [
    "my_data"
   ]
  },
  {
   "cell_type": "markdown",
   "id": "bc070ea1",
   "metadata": {},
   "source": [
    "## Updating dictionary"
   ]
  },
  {
   "cell_type": "code",
   "execution_count": 39,
   "id": "0d16ab3a",
   "metadata": {},
   "outputs": [],
   "source": [
    "my_data.update({'height':1.8})"
   ]
  },
  {
   "cell_type": "code",
   "execution_count": 40,
   "id": "8ea6b6b2",
   "metadata": {},
   "outputs": [
    {
     "data": {
      "text/plain": [
       "{'name': 'Frank', 'age': 26, 'height': 1.8}"
      ]
     },
     "execution_count": 40,
     "metadata": {},
     "output_type": "execute_result"
    }
   ],
   "source": [
    "my_data"
   ]
  },
  {
   "cell_type": "markdown",
   "id": "c9532b50",
   "metadata": {},
   "source": [
    "## Copying dictionary"
   ]
  },
  {
   "cell_type": "code",
   "execution_count": 41,
   "id": "4e47654f",
   "metadata": {},
   "outputs": [],
   "source": [
    "new_dict = my_data.copy()"
   ]
  },
  {
   "cell_type": "code",
   "execution_count": 42,
   "id": "6caf7312",
   "metadata": {},
   "outputs": [
    {
     "data": {
      "text/plain": [
       "{'name': 'Frank', 'age': 26, 'height': 1.8}"
      ]
     },
     "execution_count": 42,
     "metadata": {},
     "output_type": "execute_result"
    }
   ],
   "source": [
    "new_dict"
   ]
  },
  {
   "cell_type": "markdown",
   "id": "d43573c9",
   "metadata": {},
   "source": [
    "## Remove elements from dictionaries"
   ]
  },
  {
   "cell_type": "code",
   "execution_count": 43,
   "id": "d35b75e8",
   "metadata": {},
   "outputs": [
    {
     "data": {
      "text/plain": [
       "{'name': 'Frank', 'age': 26, 'height': 1.8}"
      ]
     },
     "execution_count": 43,
     "metadata": {},
     "output_type": "execute_result"
    }
   ],
   "source": [
    "my_data"
   ]
  },
  {
   "cell_type": "code",
   "execution_count": 44,
   "id": "0225d534",
   "metadata": {},
   "outputs": [
    {
     "data": {
      "text/plain": [
       "'Frank'"
      ]
     },
     "execution_count": 44,
     "metadata": {},
     "output_type": "execute_result"
    }
   ],
   "source": [
    "my_data.pop('name')"
   ]
  },
  {
   "cell_type": "code",
   "execution_count": 45,
   "id": "31a9a5d6",
   "metadata": {},
   "outputs": [
    {
     "data": {
      "text/plain": [
       "{'age': 26, 'height': 1.8}"
      ]
     },
     "execution_count": 45,
     "metadata": {},
     "output_type": "execute_result"
    }
   ],
   "source": [
    "my_data"
   ]
  },
  {
   "cell_type": "code",
   "execution_count": 46,
   "id": "be784ae3",
   "metadata": {},
   "outputs": [],
   "source": [
    "del my_data['height']"
   ]
  },
  {
   "cell_type": "code",
   "execution_count": 47,
   "id": "1ea03c55",
   "metadata": {},
   "outputs": [
    {
     "data": {
      "text/plain": [
       "{'age': 26}"
      ]
     },
     "execution_count": 47,
     "metadata": {},
     "output_type": "execute_result"
    }
   ],
   "source": [
    "my_data"
   ]
  },
  {
   "cell_type": "code",
   "execution_count": 48,
   "id": "124c7fa3",
   "metadata": {},
   "outputs": [],
   "source": [
    "my_data.clear()"
   ]
  },
  {
   "cell_type": "code",
   "execution_count": 49,
   "id": "3de521e5",
   "metadata": {},
   "outputs": [
    {
     "data": {
      "text/plain": [
       "{}"
      ]
     },
     "execution_count": 49,
     "metadata": {},
     "output_type": "execute_result"
    }
   ],
   "source": [
    "my_data"
   ]
  },
  {
   "cell_type": "code",
   "execution_count": null,
   "id": "8ed4749f",
   "metadata": {},
   "outputs": [],
   "source": []
  },
  {
   "cell_type": "code",
   "execution_count": null,
   "id": "071473c4",
   "metadata": {},
   "outputs": [],
   "source": []
  },
  {
   "cell_type": "code",
   "execution_count": null,
   "id": "642353f9",
   "metadata": {},
   "outputs": [],
   "source": []
  },
  {
   "cell_type": "code",
   "execution_count": null,
   "id": "6e994a80",
   "metadata": {},
   "outputs": [],
   "source": []
  },
  {
   "cell_type": "code",
   "execution_count": null,
   "id": "d39e637a",
   "metadata": {},
   "outputs": [],
   "source": []
  },
  {
   "cell_type": "code",
   "execution_count": null,
   "id": "fc895a2b",
   "metadata": {},
   "outputs": [],
   "source": []
  },
  {
   "cell_type": "code",
   "execution_count": null,
   "id": "090a44f3",
   "metadata": {},
   "outputs": [],
   "source": []
  }
 ],
 "metadata": {
  "kernelspec": {
   "display_name": "Python 3 (ipykernel)",
   "language": "python",
   "name": "python3"
  },
  "language_info": {
   "codemirror_mode": {
    "name": "ipython",
    "version": 3
   },
   "file_extension": ".py",
   "mimetype": "text/x-python",
   "name": "python",
   "nbconvert_exporter": "python",
   "pygments_lexer": "ipython3",
   "version": "3.9.15"
  }
 },
 "nbformat": 4,
 "nbformat_minor": 5
}
